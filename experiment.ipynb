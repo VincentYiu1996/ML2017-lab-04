{
 "cells": [
  {
   "cell_type": "code",
   "execution_count": 34,
   "metadata": {
    "collapsed": false
   },
   "outputs": [
    {
     "name": "stdout",
     "output_type": "stream",
     "text": [
      "[[ 3.38061714  3.17622384  3.66136927 ...,  2.53997325  4.0739911\n",
      "   2.81833998]\n",
      " [ 3.37829131  3.40154034  2.93918408 ...,  1.85014781  3.72988272\n",
      "   2.31977588]\n",
      " [ 4.11970299  3.6303717   3.60802557 ...,  2.8466503   5.15867069\n",
      "   3.36552756]\n",
      " ..., \n",
      " [ 2.55819917  3.33668269  2.838725   ...,  3.13616294  4.17742881\n",
      "   3.65190513]\n",
      " [ 3.55458384  4.67025133  3.96763204 ...,  2.62893871  5.05278195\n",
      "   3.71420456]\n",
      " [ 3.53650801  3.53987985  3.63056242 ...,  2.68811489  4.48540382\n",
      "   3.02732305]]\n"
     ]
    },
    {
     "data": {
      "text/plain": [
       "Text(0.5,1,'SGD')"
      ]
     },
     "execution_count": 34,
     "metadata": {},
     "output_type": "execute_result"
    },
    {
     "data": {
      "image/png": "[encoded data removed]",
      "text/plain": [
       "<matplotlib.figure.Figure at 0x7fa453aa0f98>"
      ]
     },
     "metadata": {},
     "output_type": "display_data"
    }
   ],
   "source": [
    "# write your code here\n",
    "import numpy as np\n",
    "import matplotlib.pyplot as plt\n",
    "import random\n",
    "%matplotlib inline\n",
    "\n",
    "def matrix_factorization(R,Rv, P, Q, K, steps=3000, alpha=0.02, beta=0.01):\n",
    "    Q = Q.T\n",
    "    for step in range(steps):\n",
    "        i=random.sample(range(len(R)),1)[0]\n",
    "        j=random.sample(range(len(R[i])),1)[0]\n",
    "        while(R[i][j]==0):\n",
    "            i=random.sample(range(len(R)),1)[0]\n",
    "            j=random.sample(range(len(R[i])),1)[0]\n",
    "        if R[i][j] > 0:\n",
    "            eij = R[i][j] - np.dot(P[i,:],Q[:,j])\n",
    "            for k in range(K):\n",
    "                P[i][k] = P[i][k] + alpha * (2 * eij * Q[k][j] - beta * P[i][k])\n",
    "                Q[k][j] = Q[k][j] + alpha * (2 * eij * P[i][k] - beta * Q[k][j])\n",
    "        eR = np.dot(P,Q)\n",
    "        e = 0\n",
    "        for i in range(len(Rv)):\n",
    "            for j in range(len(Rv[i])):\n",
    "                if Rv[i][j] > 0:\n",
    "                    e = e + pow(Rv[i][j] - np.dot(P[i,:],Q[:,j]), 2)\n",
    "                    for k in range(K):\n",
    "                        e = e + (beta/2) * (pow(P[i][k],2) + pow(Q[k][j],2))\n",
    "        L.append(e)\n",
    "#         if(step%10==0):\n",
    "#             print(step,':',e)\n",
    "    return P, Q.T,\n",
    "\n",
    "\n",
    "\n",
    "R=np.zeros([943,1682])\n",
    "Rv=np.zeros([943,1682])\n",
    "with open('ml-100k/u1.base') as f:\n",
    "    for k in range(80000):\n",
    "        a=f.readline()\n",
    "        i=int(a.split('\\t',3)[0])\n",
    "        j=int(a.split('\\t',3)[1])\n",
    "        m=int(a.split('\\t',3)[2])\n",
    "        R[i-1][j-1]=m\n",
    "        \n",
    "with open('ml-100k/u1.test') as f:\n",
    "    for k in range(20000):\n",
    "        a=f.readline()\n",
    "        i=int(a.split('\\t',3)[0])\n",
    "        j=int(a.split('\\t',3)[1])\n",
    "        m=int(a.split('\\t',3)[2])\n",
    "        Rv[i-1][j-1]=m\n",
    "        \n",
    "N = len(R)\n",
    "M = len(R[0])\n",
    "K = 15\n",
    "L=[]\n",
    "\n",
    "P = np.random.rand(N,K)\n",
    "Q = np.random.rand(M,K)\n",
    "\n",
    "nP, nQ = matrix_factorization(R,Rv, P, Q, K)\n",
    "nR = np.dot(nP, nQ.T)\n",
    "print(nR)\n",
    "\n",
    "n = np.arange(len(L))\n",
    "\n",
    "plt.plot(n,L,label='loss')\n",
    "\n",
    "plt.legend(loc='upper right')\n",
    "plt.xlabel('time')\n",
    "plt.ylabel('loss')\n",
    "plt.title('SGD')"
   ]
  },
  {
   "cell_type": "code",
   "execution_count": null,
   "metadata": {
    "collapsed": true
   },
   "outputs": [],
   "source": []
  }
 ],
 "metadata": {
  "anaconda-cloud": {},
  "kernelspec": {
   "display_name": "Python [default]",
   "language": "python",
   "name": "python3"
  },
  "language_info": {
   "codemirror_mode": {
    "name": "ipython",
    "version": 3
   },
   "file_extension": ".py",
   "mimetype": "text/x-python",
   "name": "python",
   "nbconvert_exporter": "python",
   "pygments_lexer": "ipython3",
   "version": "3.5.2"
  }
 },
 "nbformat": 4,
 "nbformat_minor": 2
}
